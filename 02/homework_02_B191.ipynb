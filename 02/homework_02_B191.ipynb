{
 "cells": [
  {
   "cell_type": "code",
   "execution_count": 1,
   "metadata": {},
   "outputs": [],
   "source": [
    "import numpy as np\n",
    "import pandas as pd\n",
    "from termcolor import colored, cprint\n",
    "from sklearn.linear_model import LogisticRegression\n",
    "from sklearn.model_selection import train_test_split\n",
    "from sklearn import metrics\n",
    "from sklearn.model_selection import ParameterGrid\n",
    "from sklearn.metrics import mean_squared_error, max_error, mean_squared_log_error\n",
    "import matplotlib.pyplot as plt\n",
    "import math"
   ]
  },
  {
   "cell_type": "markdown",
   "metadata": {},
   "source": [
    "# 🕵️‍♂️ Explorace dat 🔍\n",
    "Pokud blíže prozkoumáme dataset, zjistíme, že mezi chybějícími hodnotami jsou **věk**, **kajuta**,**cena za lístek**, **místo nalodění** a **bydliště**. "
   ]
  },
  {
   "cell_type": "code",
   "execution_count": 2,
   "metadata": {},
   "outputs": [
    {
     "data": {
      "text/plain": [
       "ID             0\n",
       "survived       0\n",
       "pclass         0\n",
       "name           0\n",
       "sex            0\n",
       "age          201\n",
       "sibsp          0\n",
       "parch          0\n",
       "ticket         0\n",
       "fare           1\n",
       "cabin        773\n",
       "embarked       2\n",
       "home.dest    435\n",
       "dtype: int64"
      ]
     },
     "metadata": {},
     "output_type": "display_data"
    }
   ],
   "source": [
    "data = pd.read_csv('data.csv')\n",
    "display(data.isnull().sum(axis=0))\n",
    "data.columns=data.columns.str.strip()"
   ]
  },
  {
   "cell_type": "markdown",
   "metadata": {},
   "source": [
    "### ⚓ Doplnění místa nalodění "
   ]
  },
  {
   "cell_type": "markdown",
   "metadata": {},
   "source": [
    "Můžeme si všimnout, že pouze u dvou záznamů chybí informace o místě nalodění, jelikož by místo nalodění nemuselo mít takový vliv na přežití pasažérů, nahradíme chybející hodnoty například modus hodnotou pro místo nalodění."
   ]
  },
  {
   "cell_type": "code",
   "execution_count": 3,
   "metadata": {},
   "outputs": [
    {
     "name": "stdout",
     "output_type": "stream",
     "text": [
      "Což je \u001b[1m\u001b[31m'S'\u001b[0m\n"
     ]
    }
   ],
   "source": [
    "print(\"Což je \", colored(\"'\"+data['embarked'].mode(dropna=True)[0]+\"'\", 'red', attrs=['bold']), sep='')\n",
    "data['embarked'].fillna(data['embarked'].mode(dropna=True)[0], inplace=True)\n",
    "data['embarked'] = data['embarked'].astype('category')\n",
    "embarked_mapper = { 'C': 0, 'Q': 1, 'S': 2 }"
   ]
  },
  {
   "cell_type": "markdown",
   "metadata": {},
   "source": [
    "Další hodnotou je cena za lístek, kde chybí jediný záznam. Doplnit ho čistě průměrnou hodnotou by mohl být problém, vzhledem k tomu, že cena lístku může korelovat například s tím, na jaké palubě byla pasažérova kajuta, což by teoreticky mohlo ovlivnit i jeho šanci na přežití. Doplníme tedy alespoň průměrnou cenu lístku v závislosti na passenger class."
   ]
  },
  {
   "cell_type": "markdown",
   "metadata": {},
   "source": [
    "### 🎟️ Doplnění ceny za lístek"
   ]
  },
  {
   "cell_type": "code",
   "execution_count": 4,
   "metadata": {},
   "outputs": [
    {
     "name": "stdout",
     "output_type": "stream",
     "text": [
      "{1: 88.0, 2: 22.0, 3: 13.0}\n"
     ]
    }
   ],
   "source": [
    "avg_price = data[['pclass', 'fare']].groupby('pclass').mean(numeric_only=True).round().to_dict()['fare']\n",
    "print(avg_price)"
   ]
  },
  {
   "cell_type": "code",
   "execution_count": 5,
   "metadata": {},
   "outputs": [],
   "source": [
    "def set_class_mean(x):\n",
    "    if np.isnan(x['fare']):\n",
    "        ret urn avg_price[x['pclass']]\n",
    "    else:\n",
    "        return x['fare']"
   ]
  },
  {
   "cell_type": "code",
   "execution_count": 6,
   "metadata": {},
   "outputs": [],
   "source": [
    "data['fare'] = data.apply(lambda x: set_class_mean(x), axis=1)"
   ]
  },
  {
   "cell_type": "markdown",
   "metadata": {},
   "source": [
    "Dále by se dalo spekulovat o tom, že **jméno** a **cílová destinace** (jelikož ledovec tam neměl nikdo) nebude hrát takovou roli při přežití."
   ]
  },
  {
   "cell_type": "code",
   "execution_count": 7,
   "metadata": {},
   "outputs": [],
   "source": [
    "data = data.drop(columns=['name', 'home.dest'])"
   ]
  },
  {
   "cell_type": "markdown",
   "metadata": {},
   "source": [
    "Teď už stačí \"jenom\" doplnit **věk** a **kajutu**, problém ale je, že doplnění kajuty by byla těžká úloha, nehledě na to, že samotné rozložení kajut Titanicu je těžce dohledatelné."
   ]
  },
  {
   "cell_type": "code",
   "execution_count": 8,
   "metadata": {},
   "outputs": [
    {
     "data": {
      "text/plain": [
       "ID            0\n",
       "survived      0\n",
       "pclass        0\n",
       "sex           0\n",
       "age         201\n",
       "sibsp         0\n",
       "parch         0\n",
       "ticket        0\n",
       "fare          0\n",
       "cabin       773\n",
       "embarked      0\n",
       "dtype: int64"
      ]
     },
     "metadata": {},
     "output_type": "display_data"
    }
   ],
   "source": [
    "display(data.isnull().sum(axis=0))"
   ]
  },
  {
   "cell_type": "markdown",
   "metadata": {},
   "source": [
    "### 🛏️ Doplnění kajuty"
   ]
  },
  {
   "cell_type": "markdown",
   "metadata": {},
   "source": [
    "Vystačíme si tedy alespoň s palubou, na které se kajuta nacházela. Ta je značená prvním písmenem v záznamu o kajutě. Problém je ale ten, že některé hodnoty pokojů nejsou vyplněné"
   ]
  },
  {
   "cell_type": "code",
   "execution_count": 9,
   "metadata": {},
   "outputs": [
    {
     "name": "stdout",
     "output_type": "stream",
     "text": [
      "Paluby:\n",
      "\u001b[1m\u001b[35m[nan, 'B', 'C', 'A', 'F', 'D', 'E', 'G'] \u001b[0m\n"
     ]
    },
    {
     "data": {
      "text/plain": [
       "ID            0\n",
       "survived      0\n",
       "pclass        0\n",
       "sex           0\n",
       "age         201\n",
       "sibsp         0\n",
       "parch         0\n",
       "ticket        0\n",
       "fare          0\n",
       "cabin       773\n",
       "embarked      0\n",
       "floor       773\n",
       "dtype: int64"
      ]
     },
     "metadata": {},
     "output_type": "display_data"
    }
   ],
   "source": [
    "data['floor'] = data['cabin'].apply(lambda x: x[0] if isinstance(x, str) else x)\n",
    "print(\"Paluby:\")\n",
    "print(colored('' + str(data['floor'].unique().tolist())+' ','magenta', attrs=['bold']))\n",
    "display(data.isnull().sum(axis=0))"
   ]
  },
  {
   "cell_type": "markdown",
   "metadata": {},
   "source": [
    "Pokud budeme uvažovat fakt, že cena lístku, paluba na které byl pasažér ubytován a jeho třída spolu souvisí a navíc, pokud převedeme identifikátor paluby na uspořádanou množinu čísel (sestupně od nejlepší po nejhorší) pracujeme vlastně se třemi číselnými hodnotami a málo daty - na to by se mohla hodit **lineární regrese**."
   ]
  },
  {
   "cell_type": "code",
   "execution_count": 10,
   "metadata": {},
   "outputs": [],
   "source": [
    "tmp = data[data.fare > 0]\n",
    "tmp = tmp[tmp.floor.notnull()]\n",
    "tmp = tmp[['fare','pclass', 'floor']]\n",
    "floor_mapper = dict( zip(tmp['floor'].astype('category'),tmp['floor'].astype('category').cat.codes))\n",
    "tmp['floor'] = tmp['floor'].astype('category').cat.codes \n",
    "X = tmp.drop(columns='floor').values\n",
    "y = tmp['floor'].values\n",
    "X_train, X_test, y_train, y_test = train_test_split(X, y, test_size = 0.2)"
   ]
  },
  {
   "cell_type": "code",
   "execution_count": 11,
   "metadata": {},
   "outputs": [
    {
     "data": {
      "text/plain": [
       "{'B': 1, 'C': 2, 'A': 0, 'F': 5, 'D': 3, 'E': 4, 'G': 6}"
      ]
     },
     "execution_count": 11,
     "metadata": {},
     "output_type": "execute_result"
    }
   ],
   "source": [
    "floor_mapper"
   ]
  },
  {
   "cell_type": "code",
   "execution_count": 12,
   "metadata": {},
   "outputs": [
    {
     "name": "stdout",
     "output_type": "stream",
     "text": [
      "\u001b[1m\u001b[35m Mean Absolute Error:\t\t\u001b[0m 0.7748874106476158\n",
      "\u001b[1m\u001b[35m Mean Squared Error:\t\t\u001b[0m 0.9869037601944908\n",
      "\u001b[1m\u001b[35m Root Mean Squared Error:\t\u001b[0m 0.9934302996156755\n",
      "\u001b[1m\u001b[35m Max Error:\t\t\t\u001b[0m 1.5089182176752163\n"
     ]
    }
   ],
   "source": [
    "from sklearn.linear_model import LinearRegression\n",
    "reg = LinearRegression()\n",
    "reg.fit(X_train, y_train)\n",
    "y_pred = reg.predict(X_test)\n",
    "print(colored(' Mean Absolute Error:\\t\\t','magenta',  attrs=['bold']), metrics.mean_absolute_error(y_test, y_pred))  \n",
    "print(colored(' Mean Squared Error:\\t\\t','magenta',  attrs=['bold']), metrics.mean_squared_error(y_test, y_pred))  \n",
    "print(colored(' Root Mean Squared Error:\\t','magenta', attrs=['bold']), np.sqrt(metrics.mean_squared_error(y_test, y_pred)))\n",
    "print(colored(' Max Error:\\t\\t\\t','magenta', attrs=['bold']), np.sqrt(metrics.max_error(y_test, y_pred)))"
   ]
  },
  {
   "cell_type": "markdown",
   "metadata": {},
   "source": [
    "Podle výsledků chyby na testovacích datech se tento model _\"splete\"_ maximálě o jedno podlaží, pokud budeme hodnotu vrácenou modelem zaokrouhlovat (protože ve výsledku potřebujeme diskrétní množinu s hodnotami 1-7). Tento postup asi není ideální, ale vzhledem k počtu záznamů a faktu, že i přes velkou snahu se mi nepodařilo vytrénovat model s **logistickou regresí** , který by měl stejnou, nebo menší chybovost (~10x větší chybovost) je tento způsob sofistikovanější a podle mě stále přesnější než doplnění průměrnou hodnotou"
   ]
  },
  {
   "cell_type": "code",
   "execution_count": 13,
   "metadata": {},
   "outputs": [],
   "source": [
    "floors = ['A', 'B', 'C', 'D', 'E', 'F']"
   ]
  },
  {
   "cell_type": "code",
   "execution_count": 14,
   "metadata": {},
   "outputs": [],
   "source": [
    "def assign_floor(row):\n",
    "    if not isinstance(row['floor'], str):\n",
    "        value = None\n",
    "        try:\n",
    "            value = int(math.floor(reg.predict([[row['fare'],row['pclass']]])[0]))\n",
    "            # ošetření spodní hranice\n",
    "            if value<0:\n",
    "                value = 0\n",
    "            # ošetření horní hranice\n",
    "            elif value >len(floors):\n",
    "                value = len(floors)-1\n",
    "            row['floor'] = floors[value]\n",
    "        except BaseException:\n",
    "            # jenom pro jistotu\n",
    "            row['floor'] = np.NaN\n",
    "    return row"
   ]
  },
  {
   "cell_type": "code",
   "execution_count": 15,
   "metadata": {},
   "outputs": [],
   "source": [
    "data = data.apply(lambda row: assign_floor(row), axis=1)\n",
    "data.drop(columns='cabin', inplace=True)"
   ]
  },
  {
   "cell_type": "markdown",
   "metadata": {},
   "source": [
    "### 🎆 Doplnění věku\n",
    "Teď už jsou chybějící hodnoty pouze u sloupce s **věkem**. Nejdříve tedy odfiltrujeme ty záznamy, které nemají vyplněný věk."
   ]
  },
  {
   "cell_type": "code",
   "execution_count": 16,
   "metadata": {},
   "outputs": [],
   "source": [
    "knn_data = data[data['age'].notnull()].drop(columns=['ID', 'survived', 'ticket'])\n",
    "knn_data['sex'] = knn_data['sex'].astype('category').cat.codes\n",
    "knn_data['embarked'] = knn_data['embarked'].astype('category').cat.codes\n",
    "knn_data['floor'] = knn_data['floor'].astype('category').cat.codes"
   ]
  },
  {
   "cell_type": "code",
   "execution_count": 17,
   "metadata": {
    "scrolled": true
   },
   "outputs": [
    {
     "data": {
      "text/html": [
       "<div>\n",
       "<style scoped>\n",
       "    .dataframe tbody tr th:only-of-type {\n",
       "        vertical-align: middle;\n",
       "    }\n",
       "\n",
       "    .dataframe tbody tr th {\n",
       "        vertical-align: top;\n",
       "    }\n",
       "\n",
       "    .dataframe thead th {\n",
       "        text-align: right;\n",
       "    }\n",
       "</style>\n",
       "<table border=\"1\" class=\"dataframe\">\n",
       "  <thead>\n",
       "    <tr style=\"text-align: right;\">\n",
       "      <th></th>\n",
       "      <th>pclass</th>\n",
       "      <th>sex</th>\n",
       "      <th>age</th>\n",
       "      <th>sibsp</th>\n",
       "      <th>parch</th>\n",
       "      <th>fare</th>\n",
       "      <th>embarked</th>\n",
       "      <th>floor</th>\n",
       "    </tr>\n",
       "  </thead>\n",
       "  <tbody>\n",
       "    <tr>\n",
       "      <td>0</td>\n",
       "      <td>3</td>\n",
       "      <td>0</td>\n",
       "      <td>22.0</td>\n",
       "      <td>0</td>\n",
       "      <td>0</td>\n",
       "      <td>7.7500</td>\n",
       "      <td>2</td>\n",
       "      <td>5</td>\n",
       "    </tr>\n",
       "    <tr>\n",
       "      <td>2</td>\n",
       "      <td>1</td>\n",
       "      <td>0</td>\n",
       "      <td>19.0</td>\n",
       "      <td>1</td>\n",
       "      <td>0</td>\n",
       "      <td>91.0792</td>\n",
       "      <td>0</td>\n",
       "      <td>1</td>\n",
       "    </tr>\n",
       "    <tr>\n",
       "      <td>3</td>\n",
       "      <td>3</td>\n",
       "      <td>1</td>\n",
       "      <td>25.0</td>\n",
       "      <td>0</td>\n",
       "      <td>0</td>\n",
       "      <td>7.2250</td>\n",
       "      <td>0</td>\n",
       "      <td>5</td>\n",
       "    </tr>\n",
       "    <tr>\n",
       "      <td>5</td>\n",
       "      <td>1</td>\n",
       "      <td>1</td>\n",
       "      <td>27.0</td>\n",
       "      <td>0</td>\n",
       "      <td>2</td>\n",
       "      <td>211.5000</td>\n",
       "      <td>0</td>\n",
       "      <td>2</td>\n",
       "    </tr>\n",
       "    <tr>\n",
       "      <td>6</td>\n",
       "      <td>1</td>\n",
       "      <td>0</td>\n",
       "      <td>24.0</td>\n",
       "      <td>3</td>\n",
       "      <td>2</td>\n",
       "      <td>263.0000</td>\n",
       "      <td>2</td>\n",
       "      <td>2</td>\n",
       "    </tr>\n",
       "  </tbody>\n",
       "</table>\n",
       "</div>"
      ],
      "text/plain": [
       "   pclass  sex   age  sibsp  parch      fare  embarked  floor\n",
       "0       3    0  22.0      0      0    7.7500         2      5\n",
       "2       1    0  19.0      1      0   91.0792         0      1\n",
       "3       3    1  25.0      0      0    7.2250         0      5\n",
       "5       1    1  27.0      0      2  211.5000         0      2\n",
       "6       1    0  24.0      3      2  263.0000         2      2"
      ]
     },
     "execution_count": 17,
     "metadata": {},
     "output_type": "execute_result"
    }
   ],
   "source": [
    "knn_data.head()"
   ]
  },
  {
   "cell_type": "code",
   "execution_count": 18,
   "metadata": {},
   "outputs": [],
   "source": [
    "def split_data(Xdata, ydata, ratio=0.25, rd_seed=5656):\n",
    "    Xtrain, Xtest, ytrain, ytest = train_test_split(Xdata, ydata, test_size=ratio, random_state=rd_seed) \n",
    "    Xtrain, Xval, ytrain, yval = train_test_split(Xtrain, ytrain, test_size=ratio, random_state=rd_seed) \n",
    "    return Xtrain, Xtest, Xval, ytrain, ytest, yval"
   ]
  },
  {
   "cell_type": "code",
   "execution_count": 19,
   "metadata": {},
   "outputs": [],
   "source": [
    "Xtrain, Xtest, Xval, ytrain, ytest, yval = split_data(knn_data.drop(columns=['age']), knn_data.age)"
   ]
  },
  {
   "cell_type": "markdown",
   "metadata": {},
   "source": [
    "Nejdříve nalezneme nejlepší model, který nám pomůže predikovat hodnotu s co největší přesností."
   ]
  },
  {
   "cell_type": "markdown",
   "metadata": {},
   "source": [
    "### 🏘️🏠 k Nearest Neighbors"
   ]
  },
  {
   "cell_type": "code",
   "execution_count": 20,
   "metadata": {},
   "outputs": [],
   "source": [
    "param_grid = {\n",
    "    'n_neighbors' : range(1,20),\n",
    "    'p': range(1,5),\n",
    "    'weights': ['uniform', 'distance']\n",
    "}\n",
    "\n",
    "param_comb = ParameterGrid(param_grid)"
   ]
  },
  {
   "cell_type": "code",
   "execution_count": 21,
   "metadata": {},
   "outputs": [
    {
     "data": {
      "image/png": "[encoded data removed]",
      "text/plain": [
       "<Figure size 432x288 with 1 Axes>"
      ]
     },
     "metadata": {
      "needs_background": "light"
     },
     "output_type": "display_data"
    }
   ],
   "source": [
    "from sklearn.neighbors import KNeighborsRegressor\n",
    "knn_val_acc = []\n",
    "for params in param_comb:\n",
    "        dt = KNeighborsRegressor(**params)\n",
    "        dt.fit(Xtrain, ytrain)\n",
    "        ypred = dt.predict(Xval)\n",
    "        knn_val_acc.append(metrics.mean_absolute_error(yval, ypred))\n",
    "a = plt.plot(knn_val_acc)"
   ]
  },
  {
   "cell_type": "code",
   "execution_count": 22,
   "metadata": {},
   "outputs": [
    {
     "name": "stdout",
     "output_type": "stream",
     "text": [
      "\u001b[1m\u001b[35mkNN\u001b[0m\n",
      "Nejlepší configurace: \u001b[32m{'weights': 'uniform', 'p': 1, 'n_neighbors': 19}\u001b[0m\n",
      "Mean Absolute Error: \u001b[35m10.30307\u001b[0m\n"
     ]
    }
   ],
   "source": [
    "best_params = param_comb[np.argmin(knn_val_acc)]\n",
    "print(colored('kNN', 'magenta', attrs=['bold']))\n",
    "print(\"Nejlepší configurace: \", end='')\n",
    "print(colored(best_params, 'green'))\n",
    "best_kNN = KNeighborsRegressor(**best_params)\n",
    "best_kNN.fit(Xtrain, ytrain)\n",
    "print('Mean Absolute Error: ', end='')\n",
    "print(colored(metrics.mean_absolute_error(ytest, best_kNN.predict(Xtest)), 'magenta'))"
   ]
  },
  {
   "cell_type": "markdown",
   "metadata": {},
   "source": [
    "### 🎄🌳🌴 Random Forest "
   ]
  },
  {
   "cell_type": "code",
   "execution_count": 23,
   "metadata": {},
   "outputs": [],
   "source": [
    "param_grid = {\n",
    "    'n_estimators': range(1,100,5),\n",
    "    'max_depth': range(1,5),\n",
    "    'max_features': range(1,8)\n",
    "}\n",
    "param_comb = ParameterGrid(param_grid)"
   ]
  },
  {
   "cell_type": "code",
   "execution_count": 24,
   "metadata": {},
   "outputs": [
    {
     "data": {
      "image/png": "[encoded data removed]",
      "text/plain": [
       "<Figure size 432x288 with 1 Axes>"
      ]
     },
     "metadata": {
      "needs_background": "light"
     },
     "output_type": "display_data"
    }
   ],
   "source": [
    "from sklearn.ensemble import RandomForestRegressor\n",
    "rfreg_val_acc = []\n",
    "for params in param_comb:\n",
    "    dt = RandomForestRegressor(**params)\n",
    "    dt.fit(Xtrain, ytrain)\n",
    "    rfreg_val_acc.append(metrics.mean_absolute_error(yval, dt.predict(Xval)))\n",
    "a = plt.plot(rfreg_val_acc)    "
   ]
  },
  {
   "cell_type": "code",
   "execution_count": 25,
   "metadata": {},
   "outputs": [
    {
     "name": "stdout",
     "output_type": "stream",
     "text": [
      "\u001b[1m\u001b[35mRandom Forest Regressor\u001b[0m\n",
      "Nejlepší configurace: \u001b[32m{'n_estimators': 6, 'max_features': 2, 'max_depth': 3}\u001b[0m\n",
      "Mean Absolute Error:  \u001b[35m9.739871832786248\u001b[0m\n"
     ]
    }
   ],
   "source": [
    "print(colored('Random Forest Regressor', 'magenta', attrs=['bold']))\n",
    "best_params = param_comb[np.argmin(rfreg_val_acc)]\n",
    "print(\"Nejlepší configurace: \", end='')\n",
    "print(colored(best_params, 'green'))\n",
    "bestRFR = RandomForestRegressor(**best_params)\n",
    "bestRFR.fit(Xtrain, ytrain)\n",
    "print('Mean Absolute Error:  ', end='')\n",
    "print(colored(metrics.mean_absolute_error(yval, bestRFR.predict(Xval)), 'magenta'))"
   ]
  },
  {
   "cell_type": "markdown",
   "metadata": {},
   "source": [
    "Z výsledků můžeme vidět, že **Random Forest** má v průměru menší chybu než **kNN**. Veznene tedy **RF** a doplníme jím chybějící hodnoty věku."
   ]
  },
  {
   "cell_type": "code",
   "execution_count": 26,
   "metadata": {},
   "outputs": [],
   "source": [
    "def assign_age(row):\n",
    "    if math.isnan(row['age']):\n",
    "        row['age'] = bestRFR.predict(row[['pclass', 'sex_v', 'sibsp', 'parch', 'fare', 'embarked_v', 'floor_v']].values.reshape(1, -1))[0]\n",
    "    return row"
   ]
  },
  {
   "cell_type": "code",
   "execution_count": 27,
   "metadata": {},
   "outputs": [
    {
     "data": {
      "text/plain": [
       "count    799.000000\n",
       "mean      29.827180\n",
       "std       14.441849\n",
       "min        0.166700\n",
       "25%       21.000000\n",
       "50%       28.000000\n",
       "75%       39.000000\n",
       "max       80.000000\n",
       "Name: age, dtype: float64"
      ]
     },
     "execution_count": 27,
     "metadata": {},
     "output_type": "execute_result"
    }
   ],
   "source": [
    "data['age'].describe()"
   ]
  },
  {
   "cell_type": "code",
   "execution_count": 28,
   "metadata": {},
   "outputs": [],
   "source": [
    "sex_mapper = { 'female': 0, 'male': 1 }"
   ]
  },
  {
   "cell_type": "code",
   "execution_count": 29,
   "metadata": {},
   "outputs": [],
   "source": [
    "data['sex_v'] = data['sex'].astype('category').cat.codes\n",
    "data['embarked_v'] = data['embarked'].astype('category').cat.codes\n",
    "data['floor_v'] = data['floor'].astype('category').cat.codes\n",
    "data = data.apply(lambda x: assign_age(x), axis=1)\n",
    "data['age'] = data['age'].astype('int')"
   ]
  },
  {
   "cell_type": "code",
   "execution_count": 30,
   "metadata": {},
   "outputs": [
    {
     "data": {
      "text/html": [
       "<div>\n",
       "<style scoped>\n",
       "    .dataframe tbody tr th:only-of-type {\n",
       "        vertical-align: middle;\n",
       "    }\n",
       "\n",
       "    .dataframe tbody tr th {\n",
       "        vertical-align: top;\n",
       "    }\n",
       "\n",
       "    .dataframe thead th {\n",
       "        text-align: right;\n",
       "    }\n",
       "</style>\n",
       "<table border=\"1\" class=\"dataframe\">\n",
       "  <thead>\n",
       "    <tr style=\"text-align: right;\">\n",
       "      <th></th>\n",
       "      <th>ID</th>\n",
       "      <th>survived</th>\n",
       "      <th>pclass</th>\n",
       "      <th>sex</th>\n",
       "      <th>age</th>\n",
       "      <th>sibsp</th>\n",
       "      <th>parch</th>\n",
       "      <th>ticket</th>\n",
       "      <th>fare</th>\n",
       "      <th>embarked</th>\n",
       "      <th>floor</th>\n",
       "      <th>sex_v</th>\n",
       "      <th>embarked_v</th>\n",
       "      <th>floor_v</th>\n",
       "    </tr>\n",
       "  </thead>\n",
       "  <tbody>\n",
       "    <tr>\n",
       "      <td>0</td>\n",
       "      <td>0</td>\n",
       "      <td>1</td>\n",
       "      <td>3</td>\n",
       "      <td>female</td>\n",
       "      <td>22</td>\n",
       "      <td>0</td>\n",
       "      <td>0</td>\n",
       "      <td>347081</td>\n",
       "      <td>7.7500</td>\n",
       "      <td>S</td>\n",
       "      <td>F</td>\n",
       "      <td>0</td>\n",
       "      <td>2</td>\n",
       "      <td>5</td>\n",
       "    </tr>\n",
       "    <tr>\n",
       "      <td>1</td>\n",
       "      <td>1</td>\n",
       "      <td>0</td>\n",
       "      <td>3</td>\n",
       "      <td>male</td>\n",
       "      <td>28</td>\n",
       "      <td>0</td>\n",
       "      <td>0</td>\n",
       "      <td>330877</td>\n",
       "      <td>8.4583</td>\n",
       "      <td>Q</td>\n",
       "      <td>F</td>\n",
       "      <td>1</td>\n",
       "      <td>1</td>\n",
       "      <td>5</td>\n",
       "    </tr>\n",
       "    <tr>\n",
       "      <td>2</td>\n",
       "      <td>2</td>\n",
       "      <td>1</td>\n",
       "      <td>1</td>\n",
       "      <td>female</td>\n",
       "      <td>19</td>\n",
       "      <td>1</td>\n",
       "      <td>0</td>\n",
       "      <td>11967</td>\n",
       "      <td>91.0792</td>\n",
       "      <td>C</td>\n",
       "      <td>B</td>\n",
       "      <td>0</td>\n",
       "      <td>0</td>\n",
       "      <td>1</td>\n",
       "    </tr>\n",
       "    <tr>\n",
       "      <td>3</td>\n",
       "      <td>3</td>\n",
       "      <td>0</td>\n",
       "      <td>3</td>\n",
       "      <td>male</td>\n",
       "      <td>25</td>\n",
       "      <td>0</td>\n",
       "      <td>0</td>\n",
       "      <td>2672</td>\n",
       "      <td>7.2250</td>\n",
       "      <td>C</td>\n",
       "      <td>F</td>\n",
       "      <td>1</td>\n",
       "      <td>0</td>\n",
       "      <td>5</td>\n",
       "    </tr>\n",
       "    <tr>\n",
       "      <td>4</td>\n",
       "      <td>4</td>\n",
       "      <td>0</td>\n",
       "      <td>3</td>\n",
       "      <td>male</td>\n",
       "      <td>28</td>\n",
       "      <td>0</td>\n",
       "      <td>0</td>\n",
       "      <td>368573</td>\n",
       "      <td>7.7500</td>\n",
       "      <td>Q</td>\n",
       "      <td>F</td>\n",
       "      <td>1</td>\n",
       "      <td>1</td>\n",
       "      <td>5</td>\n",
       "    </tr>\n",
       "  </tbody>\n",
       "</table>\n",
       "</div>"
      ],
      "text/plain": [
       "   ID  survived  pclass     sex  age  sibsp  parch  ticket     fare embarked  \\\n",
       "0   0         1       3  female   22      0      0  347081   7.7500        S   \n",
       "1   1         0       3    male   28      0      0  330877   8.4583        Q   \n",
       "2   2         1       1  female   19      1      0   11967  91.0792        C   \n",
       "3   3         0       3    male   25      0      0    2672   7.2250        C   \n",
       "4   4         0       3    male   28      0      0  368573   7.7500        Q   \n",
       "\n",
       "  floor  sex_v  embarked_v  floor_v  \n",
       "0     F      0           2        5  \n",
       "1     F      1           1        5  \n",
       "2     B      0           0        1  \n",
       "3     F      1           0        5  \n",
       "4     F      1           1        5  "
      ]
     },
     "execution_count": 30,
     "metadata": {},
     "output_type": "execute_result"
    }
   ],
   "source": [
    "data.head()"
   ]
  },
  {
   "cell_type": "code",
   "execution_count": 31,
   "metadata": {},
   "outputs": [
    {
     "data": {
      "text/plain": [
       "count    1000.000000\n",
       "mean       29.341000\n",
       "std        13.162978\n",
       "min         0.000000\n",
       "25%        22.000000\n",
       "50%        28.000000\n",
       "75%        36.000000\n",
       "max        80.000000\n",
       "Name: age, dtype: float64"
      ]
     },
     "execution_count": 31,
     "metadata": {},
     "output_type": "execute_result"
    }
   ],
   "source": [
    "data['age'].describe()"
   ]
  },
  {
   "cell_type": "markdown",
   "metadata": {},
   "source": [
    "Průměrný věk se nám extrémně nezměnil, vypadá to dobře."
   ]
  },
  {
   "cell_type": "code",
   "execution_count": 32,
   "metadata": {},
   "outputs": [],
   "source": [
    "data['ticket'] = data['ticket'].str.replace('[^0-9]', '')\n",
    "data['ticket'] = data['ticket'].apply(lambda x: '-1' if not x else x).astype('int')"
   ]
  },
  {
   "cell_type": "code",
   "execution_count": 33,
   "metadata": {
    "scrolled": true
   },
   "outputs": [
    {
     "name": "stdout",
     "output_type": "stream",
     "text": [
      "<class 'pandas.core.frame.DataFrame'>\n",
      "RangeIndex: 1000 entries, 0 to 999\n",
      "Data columns (total 14 columns):\n",
      "ID            1000 non-null int64\n",
      "survived      1000 non-null int64\n",
      "pclass        1000 non-null int64\n",
      "sex           1000 non-null object\n",
      "age           1000 non-null int64\n",
      "sibsp         1000 non-null int64\n",
      "parch         1000 non-null int64\n",
      "ticket        1000 non-null int64\n",
      "fare          1000 non-null float64\n",
      "embarked      1000 non-null object\n",
      "floor         1000 non-null object\n",
      "sex_v         1000 non-null int64\n",
      "embarked_v    1000 non-null int64\n",
      "floor_v       1000 non-null int64\n",
      "dtypes: float64(1), int64(10), object(3)\n",
      "memory usage: 109.5+ KB\n"
     ]
    }
   ],
   "source": [
    "data.info()"
   ]
  },
  {
   "cell_type": "markdown",
   "metadata": {},
   "source": [
    "V datasetu už tedy snad nemáme žádné prázdné hodnoty."
   ]
  },
  {
   "cell_type": "markdown",
   "metadata": {},
   "source": [
    "# Predikce přežití"
   ]
  },
  {
   "cell_type": "markdown",
   "metadata": {},
   "source": [
    "### Výběr lepšího modelu\n",
    "Dataset si rozdělíme na **trénovací**, **testovací** a **validační**. A zjistíme, jestli bude pro klasifikaci lepší použít **klasický klasifikační strom**, nebo **AdaBoost**"
   ]
  },
  {
   "cell_type": "code",
   "execution_count": 34,
   "metadata": {},
   "outputs": [],
   "source": [
    "Xtrain, Xtest, Xval, ytrain, ytest, yval = split_data(data.drop(columns=['survived', 'ID', 'embarked', 'floor', 'sex']), data.survived)"
   ]
  },
  {
   "cell_type": "markdown",
   "metadata": {},
   "source": [
    "### Klasický klasifikační strom"
   ]
  },
  {
   "cell_type": "code",
   "execution_count": 35,
   "metadata": {},
   "outputs": [
    {
     "name": "stdout",
     "output_type": "stream",
     "text": [
      "Trénovací úspěšnost: \u001b[31m1.0000\u001b[0m\n",
      "Testovací úspěšnost: \u001b[34m0.7160\u001b[0m\n",
      "Validační úspěšnost: \u001b[32m0.7181\u001b[0m\n"
     ]
    }
   ],
   "source": [
    "from sklearn.tree import DecisionTreeClassifier\n",
    "clfDTC = DecisionTreeClassifier()\n",
    "clfDTC.fit(Xtrain, ytrain)\n",
    "print('Trénovací úspěšnost: '+colored('{0:.4f}'.format(metrics.accuracy_score(ytrain, clfDTC.predict(Xtrain))), 'red'))\n",
    "print('Testovací úspěšnost: '+colored('{0:.4f}'.format(metrics.accuracy_score(ytest, clfDTC.predict(Xtest))), 'blue'))\n",
    "print('Validační úspěšnost: '+colored('{0:.4f}'.format(metrics.accuracy_score(yval, clfDTC.predict(Xval))), 'green' ))"
   ]
  },
  {
   "cell_type": "markdown",
   "metadata": {},
   "source": [
    "### AdaBoost"
   ]
  },
  {
   "cell_type": "code",
   "execution_count": 36,
   "metadata": {},
   "outputs": [],
   "source": [
    "from sklearn.ensemble import AdaBoostClassifier\n",
    "param_grid = {\n",
    "    'n_estimators': range(1,100,5),\n",
    "    'learning_rate': [ x/100 for x in range(1,100, 5)]+[1],\n",
    "    'algorithm': ['SAMME', 'SAMME.R']\n",
    "}\n",
    "param_comb = ParameterGrid(param_grid)\n",
    "val_acc = []\n",
    "for params in param_comb:\n",
    "    dt = AdaBoostClassifier(**params)\n",
    "    dt.fit(Xtrain, ytrain)\n",
    "    val_acc.append(math.sqrt(metrics.mean_squared_error(yval, dt.predict(Xval))))\n",
    "best_params = param_comb[np.argmin(val_acc)]"
   ]
  },
  {
   "cell_type": "code",
   "execution_count": 37,
   "metadata": {},
   "outputs": [
    {
     "name": "stdout",
     "output_type": "stream",
     "text": [
      "\u001b[1m\u001b[35mAdaBoost\u001b[0m\n",
      "Nejlepší configurace: \u001b[32m{'n_estimators': 56, 'learning_rate': 0.31, 'algorithm': 'SAMME.R'}\u001b[0m\n",
      "Trénovací úspěšnost: \u001b[31m0.8310\u001b[0m\n",
      "Testovací úspěšnost: \u001b[34m0.7600\u001b[0m\n",
      "Validační úspěšnost: \u001b[32m0.8138\u001b[0m\n"
     ]
    }
   ],
   "source": [
    "print(colored('AdaBoost', 'magenta', attrs=['bold']))\n",
    "print(\"Nejlepší configurace: \", end='')\n",
    "print(colored(best_params, 'green'))\n",
    "clfABC = AdaBoostClassifier(**best_params)\n",
    "clfABC.fit(Xtrain, ytrain)\n",
    "print('Trénovací úspěšnost: '+colored('{0:.4f}'.format(metrics.accuracy_score(ytrain, clfABC.predict(Xtrain))), 'red'))\n",
    "print('Testovací úspěšnost: '+colored('{0:.4f}'.format(metrics.accuracy_score(ytest, clfABC.predict(Xtest))), 'blue'))\n",
    "print('Validační úspěšnost: '+colored('{0:.4f}'.format(metrics.accuracy_score(yval, clfABC.predict(Xval))), 'green'))"
   ]
  },
  {
   "cell_type": "code",
   "execution_count": 38,
   "metadata": {},
   "outputs": [],
   "source": [
    "data['predicted'] = clfABC.predict(data.drop(columns=['survived', 'ID', 'embarked', 'floor', 'sex']))\n",
    "data['correct'] = data.apply(lambda x: 1 if x['predicted'] == x['survived'] else 0, axis=1)"
   ]
  },
  {
   "cell_type": "code",
   "execution_count": 39,
   "metadata": {},
   "outputs": [
    {
     "name": "stdout",
     "output_type": "stream",
     "text": [
      "Úspěšnost predikce našeho modelu na trénovacím datasetu je \u001b[1m\u001b[47m\u001b[34m 0.81 \u001b[0m\n"
     ]
    }
   ],
   "source": [
    "print(\"Úspěšnost predikce našeho modelu na trénovacím datasetu je \"+colored(' '+str(data['correct'].sum()/len(data))+' ', 'blue', 'on_white', attrs=['bold']))"
   ]
  },
  {
   "cell_type": "markdown",
   "metadata": {},
   "source": [
    "## A teď celé ještě jednou"
   ]
  },
  {
   "cell_type": "code",
   "execution_count": 80,
   "metadata": {},
   "outputs": [
    {
     "data": {
      "text/plain": [
       "ID            0\n",
       "pclass        0\n",
       "sex           0\n",
       "age          62\n",
       "sibsp         0\n",
       "parch         0\n",
       "ticket        0\n",
       "fare          0\n",
       "cabin       241\n",
       "embarked      0\n",
       "dtype: int64"
      ]
     },
     "metadata": {},
     "output_type": "display_data"
    }
   ],
   "source": [
    "data = pd.read_csv('evaluation.csv')\n",
    "data.columns=data.columns.str.strip()\n",
    "data.drop(columns=['home.dest', 'name'], inplace=True)\n",
    "display(data.isnull().sum(axis=0))"
   ]
  },
  {
   "cell_type": "code",
   "execution_count": 81,
   "metadata": {},
   "outputs": [],
   "source": [
    "data['embarked'] = data['embarked'].astype('category')\n",
    "data['ticket'] = data['ticket'].str.replace('[^0-9]', '')\n",
    "data['ticket'] = data['ticket'].apply(lambda x: '-1' if not x else x).astype('int')\n",
    "data['sex_v'] = data['sex'].replace(sex_mapper)\n",
    "data['embarked_v'] = data['embarked'].replace(embarked_mapper)"
   ]
  },
  {
   "cell_type": "markdown",
   "metadata": {},
   "source": [
    "Při prvním pokusu jsem zjistil, že jeden pasažér bydlí v kajutě **T**, se kterou jsme ale předtím nepočítali... <br>\n",
    "Můžeme ale použít model pro určení paluby, nastavíme mu tedy **cabin** na **nan** "
   ]
  },
  {
   "cell_type": "code",
   "execution_count": 82,
   "metadata": {
    "scrolled": true
   },
   "outputs": [
    {
     "data": {
      "text/html": [
       "<div>\n",
       "<style scoped>\n",
       "    .dataframe tbody tr th:only-of-type {\n",
       "        vertical-align: middle;\n",
       "    }\n",
       "\n",
       "    .dataframe tbody tr th {\n",
       "        vertical-align: top;\n",
       "    }\n",
       "\n",
       "    .dataframe thead th {\n",
       "        text-align: right;\n",
       "    }\n",
       "</style>\n",
       "<table border=\"1\" class=\"dataframe\">\n",
       "  <thead>\n",
       "    <tr style=\"text-align: right;\">\n",
       "      <th></th>\n",
       "      <th>ID</th>\n",
       "      <th>pclass</th>\n",
       "      <th>sex</th>\n",
       "      <th>age</th>\n",
       "      <th>sibsp</th>\n",
       "      <th>parch</th>\n",
       "      <th>ticket</th>\n",
       "      <th>fare</th>\n",
       "      <th>cabin</th>\n",
       "      <th>embarked</th>\n",
       "      <th>sex_v</th>\n",
       "      <th>embarked_v</th>\n",
       "    </tr>\n",
       "  </thead>\n",
       "  <tbody>\n",
       "    <tr>\n",
       "      <td>130</td>\n",
       "      <td>1130</td>\n",
       "      <td>1</td>\n",
       "      <td>male</td>\n",
       "      <td>45.0</td>\n",
       "      <td>0</td>\n",
       "      <td>0</td>\n",
       "      <td>113784</td>\n",
       "      <td>35.5</td>\n",
       "      <td>T</td>\n",
       "      <td>S</td>\n",
       "      <td>1</td>\n",
       "      <td>2</td>\n",
       "    </tr>\n",
       "  </tbody>\n",
       "</table>\n",
       "</div>"
      ],
      "text/plain": [
       "       ID  pclass   sex   age  sibsp  parch  ticket  fare cabin embarked  \\\n",
       "130  1130       1  male  45.0      0      0  113784  35.5     T        S   \n",
       "\n",
       "     sex_v  embarked_v  \n",
       "130      1           2  "
      ]
     },
     "execution_count": 82,
     "metadata": {},
     "output_type": "execute_result"
    }
   ],
   "source": [
    "data[ data['cabin'].notna() & data['cabin'].str.contains('T')]"
   ]
  },
  {
   "cell_type": "code",
   "execution_count": 83,
   "metadata": {},
   "outputs": [],
   "source": [
    "data.loc[data['ID']==1130, 'cabin'] = np.nan"
   ]
  },
  {
   "cell_type": "code",
   "execution_count": 84,
   "metadata": {},
   "outputs": [],
   "source": [
    "data['floor'] = data['cabin'].apply(lambda x: x[0] if isinstance(x, str) else x)\n",
    "data = data.apply(lambda row: assign_floor(row), axis=1)\n",
    "data['floor_v'] = data['floor'].replace(floor_mapper).astype('int')\n",
    "data.drop(columns=['sex', 'embarked', 'floor', 'cabin'], inplace=True)\n",
    "data = data.apply(lambda x: assign_age(x), axis=1)\n",
    "data['age'] = data['age'].astype('int')"
   ]
  },
  {
   "cell_type": "code",
   "execution_count": 85,
   "metadata": {},
   "outputs": [],
   "source": [
    "data['prediction'] = clfABC.predict(data.drop(columns=['ID']))"
   ]
  },
  {
   "cell_type": "code",
   "execution_count": 86,
   "metadata": {},
   "outputs": [],
   "source": [
    "data['ID']=data['ID'].astype('int')"
   ]
  },
  {
   "cell_type": "code",
   "execution_count": 87,
   "metadata": {},
   "outputs": [
    {
     "name": "stdout",
     "output_type": "stream",
     "text": [
      "Náš model právě zachránil \u001b[1m\u001b[43m\u001b[31m 101 \u001b[0m lidí!\n"
     ]
    }
   ],
   "source": [
    "print(\"Náš model právě zachránil \" + colored(' '+ str(data['prediction'].sum()) +' ', 'red', 'on_yellow', attrs=['bold']) + \" lidí!\")"
   ]
  },
  {
   "cell_type": "markdown",
   "metadata": {},
   "source": [
    "![Hooray!](giphy.webp \"Hooray!\")\n",
    "<p align=\"justify\"> Snad byl i úspěšný..</p>"
   ]
  },
  {
   "cell_type": "code",
   "execution_count": 88,
   "metadata": {},
   "outputs": [],
   "source": [
    "data[['ID', 'prediction']].to_csv('results.csv', index=False)"
   ]
  }
 ],
 "metadata": {
  "kernelspec": {
   "display_name": "Python 3",
   "language": "python",
   "name": "python3"
  },
  "language_info": {
   "codemirror_mode": {
    "name": "ipython",
    "version": 3
   },
   "file_extension": ".py",
   "mimetype": "text/x-python",
   "name": "python",
   "nbconvert_exporter": "python",
   "pygments_lexer": "ipython3",
   "version": "3.6.9"
  }
 },
 "nbformat": 4,
 "nbformat_minor": 4
}
